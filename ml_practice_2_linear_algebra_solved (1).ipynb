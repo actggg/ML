{
  "cells": [
    {
      "cell_type": "markdown",
      "metadata": {
        "id": "ZW6meUY_-yEA"
      },
      "source": [
        "#  **Практическое занятие №2. Линейная алгебра.**"
      ]
    },
    {
      "cell_type": "markdown",
      "metadata": {
        "id": "cEQvIstH-yEC"
      },
      "source": [
        "## Знакомство с библиотекой **NumPy**"
      ]
    },
    {
      "cell_type": "markdown",
      "metadata": {
        "id": "47x4Wl7H-yEC"
      },
      "source": [
        "numpy - библиотека для быстрой работы с большими массивами и матрицами\n",
        "\n",
        "https://numpy.org/doc/stable/user/quickstart.html"
      ]
    },
    {
      "cell_type": "code",
      "execution_count": 55,
      "metadata": {
        "id": "NoQQWLca-yEC"
      },
      "outputs": [],
      "source": [
        "import numpy as np"
      ]
    },
    {
      "cell_type": "markdown",
      "source": [
        "### Мотивация: numpy vs python"
      ],
      "metadata": {
        "id": "3s-haQMUBPYX"
      }
    },
    {
      "cell_type": "code",
      "source": [
        "import time\n",
        "\n",
        "arr_size = 1000000\n",
        "iter_num = 1000"
      ],
      "metadata": {
        "id": "daF-Y35wBIOB"
      },
      "execution_count": 2,
      "outputs": []
    },
    {
      "cell_type": "code",
      "source": [
        "# time pure python list sum\n",
        "x = list(range(arr_size))\n",
        "\n",
        "s = time.time()\n",
        "\n",
        "for i in range(iter_num):\n",
        "    sum(x)\n",
        "\n",
        "t = time.time() - s\n",
        "\n",
        "print(f'Finished in {t:.5f} s: {(t * 1000 / iter_num):.5f} ms per iteration')"
      ],
      "metadata": {
        "colab": {
          "base_uri": "https://localhost:8080/"
        },
        "id": "yuSPDlyb_hw7",
        "outputId": "834e9741-4dda-45b7-afea-bf5737375235"
      },
      "execution_count": 3,
      "outputs": [
        {
          "output_type": "stream",
          "name": "stdout",
          "text": [
            "Finished in 8.00034 s: 8.00034 ms per iteration\n"
          ]
        }
      ]
    },
    {
      "cell_type": "code",
      "source": [
        "# time numpy array sum\n",
        "x = np.arange(arr_size)\n",
        "\n",
        "s = time.time()\n",
        "\n",
        "for i in range(iter_num):\n",
        "    np.sum(x)\n",
        "\n",
        "t = time.time() - s\n",
        "\n",
        "print(f'Finished in {t:.5f} s: {(t * 1000 / iter_num):.5f} ms per iteration')"
      ],
      "metadata": {
        "colab": {
          "base_uri": "https://localhost:8080/"
        },
        "id": "cFri_VC2A2B8",
        "outputId": "d93c7dd5-4bb9-4e85-c5b5-2f859bc35d50"
      },
      "execution_count": 4,
      "outputs": [
        {
          "output_type": "stream",
          "name": "stdout",
          "text": [
            "Finished in 0.50988 s: 0.50988 ms per iteration\n"
          ]
        }
      ]
    },
    {
      "cell_type": "markdown",
      "source": [
        "### Basics"
      ],
      "metadata": {
        "id": "0AmdQiKiDJoy"
      }
    },
    {
      "cell_type": "markdown",
      "metadata": {
        "id": "n7Wsigao-yED"
      },
      "source": [
        "#### Создание массива\n",
        "https://numpy.org/doc/stable/reference/routines.array-creation.*html*"
      ]
    },
    {
      "cell_type": "code",
      "execution_count": 5,
      "metadata": {
        "colab": {
          "base_uri": "https://localhost:8080/"
        },
        "id": "8q1-bPKI-yED",
        "outputId": "dd3914a6-3eb0-4041-dfc7-5cea06aeca5f"
      },
      "outputs": [
        {
          "output_type": "execute_result",
          "data": {
            "text/plain": [
              "array([[1, 2, 3],\n",
              "       [4, 5, 6]])"
            ]
          },
          "metadata": {},
          "execution_count": 5
        }
      ],
      "source": [
        "# создать явно\n",
        "np.array([[1, 2, 3], [4, 5, 6]])"
      ]
    },
    {
      "cell_type": "code",
      "execution_count": 6,
      "metadata": {
        "colab": {
          "base_uri": "https://localhost:8080/"
        },
        "id": "_EYSW0C4-yEE",
        "outputId": "6b0f45bf-b428-4c50-c7c1-ae2a1518ab43"
      },
      "outputs": [
        {
          "output_type": "execute_result",
          "data": {
            "text/plain": [
              "array([[0., 0., 0.],\n",
              "       [0., 0., 0.]])"
            ]
          },
          "metadata": {},
          "execution_count": 6
        }
      ],
      "source": [
        "# нулевой массив заданного размера\n",
        "np.zeros((2, 3))"
      ]
    },
    {
      "cell_type": "code",
      "source": [
        "# нулевой массив такого же размера, как другой\n",
        "a = np.array([[1, 2, 3], [4, 5, 6]])\n",
        "np.zeros_like(a)"
      ],
      "metadata": {
        "colab": {
          "base_uri": "https://localhost:8080/"
        },
        "id": "vowiu8CcWOUU",
        "outputId": "18a1f3f5-0abf-459f-869f-6719d3f07294"
      },
      "execution_count": 7,
      "outputs": [
        {
          "output_type": "execute_result",
          "data": {
            "text/plain": [
              "array([[0, 0, 0],\n",
              "       [0, 0, 0]])"
            ]
          },
          "metadata": {},
          "execution_count": 7
        }
      ]
    },
    {
      "cell_type": "code",
      "execution_count": 8,
      "metadata": {
        "colab": {
          "base_uri": "https://localhost:8080/"
        },
        "outputId": "0f68c093-4afe-4559-9b5d-c3043544d99a",
        "id": "cqiE9igBWjRO"
      },
      "outputs": [
        {
          "output_type": "execute_result",
          "data": {
            "text/plain": [
              "array([[1., 1., 1.],\n",
              "       [1., 1., 1.]])"
            ]
          },
          "metadata": {},
          "execution_count": 8
        }
      ],
      "source": [
        "# массив единиц заданного размера\n",
        "np.ones((2, 3))"
      ]
    },
    {
      "cell_type": "code",
      "source": [
        "# массив единиц такого же размера, как другой\n",
        "a = np.array([[1, 2, 3], [4, 5, 6]])\n",
        "np.ones_like(a)"
      ],
      "metadata": {
        "colab": {
          "base_uri": "https://localhost:8080/"
        },
        "outputId": "e3d58c07-ad41-4573-f715-6ad7f0fea533",
        "id": "fukbvD8XWpi5"
      },
      "execution_count": 9,
      "outputs": [
        {
          "output_type": "execute_result",
          "data": {
            "text/plain": [
              "array([[1, 1, 1],\n",
              "       [1, 1, 1]])"
            ]
          },
          "metadata": {},
          "execution_count": 9
        }
      ]
    },
    {
      "cell_type": "code",
      "source": [
        "# массив, заполненный конкретным числом\n",
        "np.full((2, 3), 5)"
      ],
      "metadata": {
        "colab": {
          "base_uri": "https://localhost:8080/"
        },
        "id": "V9qdC1gEyULu",
        "outputId": "933518c5-1ff2-44bb-d131-474b80fbf690"
      },
      "execution_count": 10,
      "outputs": [
        {
          "output_type": "execute_result",
          "data": {
            "text/plain": [
              "array([[5, 5, 5],\n",
              "       [5, 5, 5]])"
            ]
          },
          "metadata": {},
          "execution_count": 10
        }
      ]
    },
    {
      "cell_type": "code",
      "source": [
        "# массив, заполненный конкретным числом\n",
        "a = np.array([[1, 2, 3], [4, 5, 6]])\n",
        "np.full_like(a, 4)"
      ],
      "metadata": {
        "colab": {
          "base_uri": "https://localhost:8080/"
        },
        "outputId": "ea4fe318-56d7-4ccf-b789-f49f240246a4",
        "id": "JYAMXeUcW5b2"
      },
      "execution_count": 11,
      "outputs": [
        {
          "output_type": "execute_result",
          "data": {
            "text/plain": [
              "array([[4, 4, 4],\n",
              "       [4, 4, 4]])"
            ]
          },
          "metadata": {},
          "execution_count": 11
        }
      ]
    },
    {
      "cell_type": "code",
      "execution_count": 14,
      "metadata": {
        "colab": {
          "base_uri": "https://localhost:8080/"
        },
        "id": "6rVliSiE-yEG",
        "outputId": "ddfa603d-e392-4607-d31f-464230f1d614"
      },
      "outputs": [
        {
          "output_type": "execute_result",
          "data": {
            "text/plain": [
              "array([[1., 0., 0.],\n",
              "       [0., 1., 0.],\n",
              "       [0., 0., 1.]])"
            ]
          },
          "metadata": {},
          "execution_count": 14
        }
      ],
      "source": [
        "# создать единичную матрицу (двумерный массив)\n",
        "np.eye(3)"
      ]
    },
    {
      "cell_type": "code",
      "execution_count": 16,
      "metadata": {
        "colab": {
          "base_uri": "https://localhost:8080/"
        },
        "id": "BOFX0OB1-yEG",
        "outputId": "f77ccb78-ef14-4375-e01e-8b085e62c54f"
      },
      "outputs": [
        {
          "output_type": "execute_result",
          "data": {
            "text/plain": [
              "array([10,  9,  8,  7,  6,  5,  4,  3,  2])"
            ]
          },
          "metadata": {},
          "execution_count": 16
        }
      ],
      "source": [
        "# создать range\n",
        "np.arange(10, 1, -1)"
      ]
    },
    {
      "cell_type": "code",
      "execution_count": 23,
      "metadata": {
        "colab": {
          "base_uri": "https://localhost:8080/"
        },
        "id": "ocyQ9m0E-yEG",
        "outputId": "4ea7291e-d8a1-40bf-bfb0-d4ea335ca23e"
      },
      "outputs": [
        {
          "output_type": "execute_result",
          "data": {
            "text/plain": [
              "array([[0, 0, 0],\n",
              "       [0, 0, 0]], dtype=int8)"
            ]
          },
          "metadata": {},
          "execution_count": 23
        }
      ],
      "source": [
        "# можно явно указать тип при создании массива вторым аргументов\n",
        "np.zeros((2, 3), np.int8)"
      ]
    },
    {
      "cell_type": "code",
      "source": [
        "# заполнить из функции\n",
        "np.fromfunction(lambda i, j: i * j, (3, 3))"
      ],
      "metadata": {
        "colab": {
          "base_uri": "https://localhost:8080/"
        },
        "id": "AaUs9QD0yKN-",
        "outputId": "5373790f-669b-4d40-d1b0-8c231fddbea1"
      },
      "execution_count": 20,
      "outputs": [
        {
          "output_type": "execute_result",
          "data": {
            "text/plain": [
              "array([[0., 0., 0.],\n",
              "       [0., 1., 2.],\n",
              "       [0., 2., 4.]])"
            ]
          },
          "metadata": {},
          "execution_count": 20
        }
      ]
    },
    {
      "cell_type": "code",
      "execution_count": 21,
      "metadata": {
        "colab": {
          "base_uri": "https://localhost:8080/"
        },
        "id": "SysNtRnx-yEH",
        "outputId": "cedec116-768d-4cb6-970b-e0c54917ba1b"
      },
      "outputs": [
        {
          "output_type": "execute_result",
          "data": {
            "text/plain": [
              "array(['1', '2', '5'], dtype='<U21')"
            ]
          },
          "metadata": {},
          "execution_count": 21
        }
      ],
      "source": [
        "# можно заменить тип\n",
        "a = np.array([1, 2, 5])\n",
        "a.astype('str')"
      ]
    },
    {
      "cell_type": "code",
      "execution_count": 22,
      "metadata": {
        "colab": {
          "base_uri": "https://localhost:8080/"
        },
        "id": "8qYDVsQE-yEH",
        "outputId": "3c8fea08-2b09-42f5-a679-00588f9c8931"
      },
      "outputs": [
        {
          "output_type": "execute_result",
          "data": {
            "text/plain": [
              "{'int': [numpy.int8, numpy.int16, numpy.int32, numpy.int64],\n",
              " 'uint': [numpy.uint8, numpy.uint16, numpy.uint32, numpy.uint64],\n",
              " 'float': [numpy.float16, numpy.float32, numpy.float64, numpy.float128],\n",
              " 'complex': [numpy.complex64, numpy.complex128, numpy.complex256],\n",
              " 'others': [bool, object, bytes, str, numpy.void]}"
            ]
          },
          "metadata": {},
          "execution_count": 22
        }
      ],
      "source": [
        "# посмотреть все возможные типы\n",
        "np.sctypes"
      ]
    },
    {
      "cell_type": "markdown",
      "metadata": {
        "id": "xvg4uX9J-yEH"
      },
      "source": [
        "#### Доступ к элементам массива, срезы\n",
        "https://numpy.org/doc/stable/user/basics.indexing.html\n",
        "\n"
      ]
    },
    {
      "cell_type": "markdown",
      "source": [
        "##### Доступ к элементам"
      ],
      "metadata": {
        "id": "Xu-EoG1f7XFC"
      }
    },
    {
      "cell_type": "code",
      "source": [
        "# доступ по индексу, включая негативные индексы\n",
        "a = np.arange(10)\n",
        "a[-2]"
      ],
      "metadata": {
        "colab": {
          "base_uri": "https://localhost:8080/"
        },
        "id": "us6dHvlDXks_",
        "outputId": "30bfdc50-5bae-443a-d1a7-4d76206859fe"
      },
      "execution_count": 25,
      "outputs": [
        {
          "output_type": "execute_result",
          "data": {
            "text/plain": [
              "8"
            ]
          },
          "metadata": {},
          "execution_count": 25
        }
      ]
    },
    {
      "cell_type": "code",
      "source": [
        "# доступ по набору индексов, включая негативные\n",
        "a = np.array([[0, 1, 2, 3, 4], [5, 6, 7, 8, 9]])\n",
        "a[1,4]"
      ],
      "metadata": {
        "colab": {
          "base_uri": "https://localhost:8080/"
        },
        "id": "B9U7WuShXqi4",
        "outputId": "db88b9fb-94dc-41a9-a171-f413d36dbc2d"
      },
      "execution_count": 27,
      "outputs": [
        {
          "output_type": "execute_result",
          "data": {
            "text/plain": [
              "9"
            ]
          },
          "metadata": {},
          "execution_count": 27
        }
      ]
    },
    {
      "cell_type": "code",
      "source": [
        "# можно выделять индекс по каждому срезу отдельными скобками - но это менее эффективно\n",
        "a[1][3] # same as a[1,3]"
      ],
      "metadata": {
        "colab": {
          "base_uri": "https://localhost:8080/"
        },
        "id": "1B011zwO6a-6",
        "outputId": "7552bbf1-89be-48bd-93cc-eb333a7d69d0"
      },
      "execution_count": 28,
      "outputs": [
        {
          "output_type": "execute_result",
          "data": {
            "text/plain": [
              "8"
            ]
          },
          "metadata": {},
          "execution_count": 28
        }
      ]
    },
    {
      "cell_type": "code",
      "source": [
        "# можно изменять значение по индексу\n",
        "a = np.arange(5)\n",
        "a[0] = 5\n",
        "a"
      ],
      "metadata": {
        "colab": {
          "base_uri": "https://localhost:8080/"
        },
        "id": "aTPVUCy17iKK",
        "outputId": "b3eb2446-2827-4878-f4e0-12644baa7de1"
      },
      "execution_count": 29,
      "outputs": [
        {
          "output_type": "execute_result",
          "data": {
            "text/plain": [
              "array([5, 1, 2, 3, 4])"
            ]
          },
          "metadata": {},
          "execution_count": 29
        }
      ]
    },
    {
      "cell_type": "markdown",
      "source": [
        "##### Срезы, слайсы"
      ],
      "metadata": {
        "id": "MdyPrFv67cNs"
      }
    },
    {
      "cell_type": "code",
      "source": [
        "a = list(range(10))\n",
        "a[8:1:-2]"
      ],
      "metadata": {
        "colab": {
          "base_uri": "https://localhost:8080/"
        },
        "id": "hEiDcyymKbw1",
        "outputId": "e5e532be-48b8-4ded-9661-b663dcff7825"
      },
      "execution_count": 45,
      "outputs": [
        {
          "output_type": "execute_result",
          "data": {
            "text/plain": [
              "[8, 6, 4, 2]"
            ]
          },
          "metadata": {},
          "execution_count": 45
        }
      ]
    },
    {
      "cell_type": "code",
      "source": [
        "# работает привычный питонячий слайсинг\n",
        "a = np.arange(10)\n",
        "a[8:1:-2]"
      ],
      "metadata": {
        "colab": {
          "base_uri": "https://localhost:8080/"
        },
        "id": "bE4RqanRYgMP",
        "outputId": "35560291-6320-4b58-8d8d-223a74e36409"
      },
      "execution_count": 31,
      "outputs": [
        {
          "output_type": "execute_result",
          "data": {
            "text/plain": [
              "array([8, 6, 4, 2])"
            ]
          },
          "metadata": {},
          "execution_count": 31
        }
      ]
    },
    {
      "cell_type": "code",
      "execution_count": 33,
      "metadata": {
        "colab": {
          "base_uri": "https://localhost:8080/"
        },
        "id": "ls8gAvOg-yEI",
        "outputId": "43d6c676-68e1-4507-a382-db3999a85a57"
      },
      "outputs": [
        {
          "output_type": "execute_result",
          "data": {
            "text/plain": [
              "array([[[ 0,  1,  2],\n",
              "        [ 3,  4,  5]],\n",
              "\n",
              "       [[ 6,  7,  8],\n",
              "        [ 9, 10, 11]]])"
            ]
          },
          "metadata": {},
          "execution_count": 33
        }
      ],
      "source": [
        "# срез по первой оси\n",
        "a = np.array([[[0, 1, 2],[3, 4, 5]],[[6, 7, 8],[9, 10, 11]]])\n",
        "a"
      ]
    },
    {
      "cell_type": "code",
      "source": [
        "a.shape"
      ],
      "metadata": {
        "colab": {
          "base_uri": "https://localhost:8080/"
        },
        "id": "IkPnV4H8H1sV",
        "outputId": "0a66c550-f421-4d6e-8dde-b46d64cc5565"
      },
      "execution_count": 34,
      "outputs": [
        {
          "output_type": "execute_result",
          "data": {
            "text/plain": [
              "(2, 2, 3)"
            ]
          },
          "metadata": {},
          "execution_count": 34
        }
      ]
    },
    {
      "cell_type": "code",
      "source": [
        "a[0] # same as a[0,:,:]"
      ],
      "metadata": {
        "colab": {
          "base_uri": "https://localhost:8080/"
        },
        "id": "FIZnGNWXH5x0",
        "outputId": "520676c2-aeaa-43d1-98a7-e8939a624dee"
      },
      "execution_count": 36,
      "outputs": [
        {
          "output_type": "execute_result",
          "data": {
            "text/plain": [
              "array([[0, 1, 2],\n",
              "       [3, 4, 5]])"
            ]
          },
          "metadata": {},
          "execution_count": 36
        }
      ]
    },
    {
      "cell_type": "code",
      "source": [
        "# срез по произвольной оси\n",
        "a = np.array([[[0, 1, 2],[3, 4, 5]],[[6, 7, 8],[9, 10, 11]]])\n",
        "a[:,:,0] # same as a[:,0,:]"
      ],
      "metadata": {
        "colab": {
          "base_uri": "https://localhost:8080/"
        },
        "id": "CqNEWE83Ywus",
        "outputId": "27b4fd55-830e-4d33-b132-bd503127702a"
      },
      "execution_count": 38,
      "outputs": [
        {
          "output_type": "execute_result",
          "data": {
            "text/plain": [
              "array([[0, 3],\n",
              "       [6, 9]])"
            ]
          },
          "metadata": {},
          "execution_count": 38
        }
      ]
    },
    {
      "cell_type": "code",
      "execution_count": 39,
      "metadata": {
        "id": "LlgE1di9-yEI",
        "outputId": "03801088-eae1-4a7c-e687-ff4a034233e0",
        "colab": {
          "base_uri": "https://localhost:8080/"
        }
      },
      "outputs": [
        {
          "output_type": "execute_result",
          "data": {
            "text/plain": [
              "array([3, 1])"
            ]
          },
          "metadata": {},
          "execution_count": 39
        }
      ],
      "source": [
        "# срез + слайс\n",
        "a = np.array([[0, 1, 2, 3],[4, 5, 6, 7]])\n",
        "a[0,-1:0:-2]"
      ]
    },
    {
      "cell_type": "code",
      "source": [
        "a.copy()"
      ],
      "metadata": {
        "colab": {
          "base_uri": "https://localhost:8080/"
        },
        "id": "Kgc903mGLVjF",
        "outputId": "345a28cd-6fd6-42bb-9aed-9e0a05945e54"
      },
      "execution_count": 46,
      "outputs": [
        {
          "output_type": "execute_result",
          "data": {
            "text/plain": [
              "[0, 1, 2, 3, 4, 5, 6, 7, 8, 9]"
            ]
          },
          "metadata": {},
          "execution_count": 46
        }
      ]
    },
    {
      "cell_type": "code",
      "source": [
        "# можно задавать срезы/слайсы программно\n",
        "a = np.array([[0, 1, 2, 3],[4, 5, 6, 7],[8, 9, 10, 11]])\n",
        "\n",
        "i = np.array([0, 2])\n",
        "s = slice(-1, 0, -2)\n",
        "\n",
        "a[i,s]"
      ],
      "metadata": {
        "colab": {
          "base_uri": "https://localhost:8080/"
        },
        "id": "1QIlQT7HKQcP",
        "outputId": "6062815e-c03d-44a2-e6fa-999e17e45d51"
      },
      "execution_count": 40,
      "outputs": [
        {
          "output_type": "execute_result",
          "data": {
            "text/plain": [
              "array([[ 3,  1],\n",
              "       [11,  9]])"
            ]
          },
          "metadata": {},
          "execution_count": 40
        }
      ]
    },
    {
      "cell_type": "code",
      "source": [
        "a[np.array([0, 2]),-1:0:-2]"
      ],
      "metadata": {
        "colab": {
          "base_uri": "https://localhost:8080/"
        },
        "id": "0R7DqFpWJBom",
        "outputId": "8f8bcb62-121a-4ccd-8656-9bf77a49103d"
      },
      "execution_count": 41,
      "outputs": [
        {
          "output_type": "execute_result",
          "data": {
            "text/plain": [
              "array([[ 3,  1],\n",
              "       [11,  9]])"
            ]
          },
          "metadata": {},
          "execution_count": 41
        }
      ]
    },
    {
      "cell_type": "code",
      "source": [
        "# !!! срезы/слайсы не копируют массивы, а возвращают \"представление\"\n",
        "a = np.array([[0, 1, 2, 3],[4, 5, 6, 7],[8, 9, 10, 11]])\n",
        "\n",
        "b = a[0]\n",
        "b[2] = 100\n",
        "\n",
        "a"
      ],
      "metadata": {
        "colab": {
          "base_uri": "https://localhost:8080/"
        },
        "id": "nnhR3uCSbQWF",
        "outputId": "fb52bc9e-091f-46ac-9941-1f8f855035fc"
      },
      "execution_count": 47,
      "outputs": [
        {
          "output_type": "execute_result",
          "data": {
            "text/plain": [
              "array([[  0,   1, 100,   3],\n",
              "       [  4,   5,   6,   7],\n",
              "       [  8,   9,  10,  11]])"
            ]
          },
          "metadata": {},
          "execution_count": 47
        }
      ]
    },
    {
      "cell_type": "markdown",
      "source": [
        "Задача. Создать матрицу с единицами на побочной диагонали и нулями вне ее."
      ],
      "metadata": {
        "id": "xmY_LPtp9T00"
      }
    },
    {
      "cell_type": "code",
      "execution_count": 44,
      "metadata": {
        "id": "NeBOqJae-yEJ",
        "colab": {
          "base_uri": "https://localhost:8080/"
        },
        "outputId": "76ceb687-1a42-4ab3-f8af-2514d9237373"
      },
      "outputs": [
        {
          "output_type": "execute_result",
          "data": {
            "text/plain": [
              "array([[0., 0., 0., 0., 1.],\n",
              "       [0., 0., 0., 1., 0.],\n",
              "       [0., 0., 1., 0., 0.],\n",
              "       [0., 1., 0., 0., 0.],\n",
              "       [1., 0., 0., 0., 0.]])"
            ]
          },
          "metadata": {},
          "execution_count": 44
        }
      ],
      "source": [
        "# your code here\n",
        "np.eye(5)[:,::-1]"
      ]
    },
    {
      "cell_type": "markdown",
      "metadata": {
        "id": "O3tdw0wg-yEJ"
      },
      "source": [
        "##### Форма массива и ее изменение"
      ]
    },
    {
      "cell_type": "code",
      "source": [
        "a = np.arange(12)\n",
        "a.shape"
      ],
      "metadata": {
        "colab": {
          "base_uri": "https://localhost:8080/"
        },
        "id": "-0YA3SDzbzL3",
        "outputId": "1773046e-bd97-4efd-ea73-80f110c96abd"
      },
      "execution_count": 48,
      "outputs": [
        {
          "output_type": "execute_result",
          "data": {
            "text/plain": [
              "(12,)"
            ]
          },
          "metadata": {},
          "execution_count": 48
        }
      ]
    },
    {
      "cell_type": "code",
      "execution_count": 49,
      "metadata": {
        "id": "gz8VAZdB-yEJ",
        "outputId": "fe5360ba-f78c-43d1-c7e2-5223d77f9732",
        "colab": {
          "base_uri": "https://localhost:8080/"
        }
      },
      "outputs": [
        {
          "output_type": "execute_result",
          "data": {
            "text/plain": [
              "(2, 6)"
            ]
          },
          "metadata": {},
          "execution_count": 49
        }
      ],
      "source": [
        "b = a.reshape(2, 6)\n",
        "b.shape"
      ]
    },
    {
      "cell_type": "code",
      "execution_count": 50,
      "metadata": {
        "id": "xnR85ePe-yEJ",
        "outputId": "3ee7773d-c169-4aad-b2dc-80238590d1a1",
        "colab": {
          "base_uri": "https://localhost:8080/",
          "height": 204
        }
      },
      "outputs": [
        {
          "output_type": "error",
          "ename": "ValueError",
          "evalue": "ignored",
          "traceback": [
            "\u001b[0;31m---------------------------------------------------------------------------\u001b[0m",
            "\u001b[0;31mValueError\u001b[0m                                Traceback (most recent call last)",
            "\u001b[0;32m<ipython-input-50-5032a53bba6c>\u001b[0m in \u001b[0;36m<cell line: 2>\u001b[0;34m()\u001b[0m\n\u001b[1;32m      1\u001b[0m \u001b[0;31m# важно сохранять размеры при изменении формы\u001b[0m\u001b[0;34m\u001b[0m\u001b[0;34m\u001b[0m\u001b[0m\n\u001b[0;32m----> 2\u001b[0;31m \u001b[0mc\u001b[0m \u001b[0;34m=\u001b[0m \u001b[0ma\u001b[0m\u001b[0;34m.\u001b[0m\u001b[0mreshape\u001b[0m\u001b[0;34m(\u001b[0m\u001b[0;36m2\u001b[0m\u001b[0;34m,\u001b[0m \u001b[0;36m4\u001b[0m\u001b[0;34m)\u001b[0m\u001b[0;34m\u001b[0m\u001b[0;34m\u001b[0m\u001b[0m\n\u001b[0m",
            "\u001b[0;31mValueError\u001b[0m: cannot reshape array of size 12 into shape (2,4)"
          ]
        }
      ],
      "source": [
        "# важно сохранять размеры при изменении формы\n",
        "c = a.reshape(2, 4)"
      ]
    },
    {
      "cell_type": "code",
      "execution_count": 51,
      "metadata": {
        "id": "5kBZqeJ_-yEJ",
        "outputId": "04ab1b2d-ad55-4bea-b39d-c84e04fae91c",
        "colab": {
          "base_uri": "https://localhost:8080/"
        }
      },
      "outputs": [
        {
          "output_type": "execute_result",
          "data": {
            "text/plain": [
              "(2, 6)"
            ]
          },
          "metadata": {},
          "execution_count": 51
        }
      ],
      "source": [
        "# можно использовать -1, тогда размер вдоль этой оси будет автоматически вычисляться\n",
        "c = a.reshape(2, -1)\n",
        "c.shape"
      ]
    },
    {
      "cell_type": "code",
      "execution_count": 52,
      "metadata": {
        "id": "GtyYQsUN-yEK",
        "outputId": "271e91ff-95e8-4384-f4e9-2f6a5ee2cd78",
        "colab": {
          "base_uri": "https://localhost:8080/"
        }
      },
      "outputs": [
        {
          "output_type": "execute_result",
          "data": {
            "text/plain": [
              "(12,)"
            ]
          },
          "metadata": {},
          "execution_count": 52
        }
      ],
      "source": [
        "# развернуть массив в одномерный\n",
        "d = c.ravel()\n",
        "d.shape"
      ]
    },
    {
      "cell_type": "code",
      "source": [
        "# !!! изменение формы тоже возвращает \"представление\"\n",
        "a = np.arange(10)\n",
        "\n",
        "b = a.reshape(2, 5)\n",
        "b[0][3] = 100\n",
        "\n",
        "a"
      ],
      "metadata": {
        "colab": {
          "base_uri": "https://localhost:8080/"
        },
        "id": "I6ogkX8lNY6Z",
        "outputId": "71a7a169-01b6-4942-e363-dcbe7fcfd9d7"
      },
      "execution_count": 53,
      "outputs": [
        {
          "output_type": "execute_result",
          "data": {
            "text/plain": [
              "array([  0,   1,   2, 100,   4,   5,   6,   7,   8,   9])"
            ]
          },
          "metadata": {},
          "execution_count": 53
        }
      ]
    },
    {
      "cell_type": "markdown",
      "source": [
        "#### Операции с массивами"
      ],
      "metadata": {
        "id": "0DdINg78N9mB"
      }
    },
    {
      "cell_type": "markdown",
      "metadata": {
        "id": "rnlvrcLM-yEK"
      },
      "source": [
        "##### Арифметические операции"
      ]
    },
    {
      "cell_type": "markdown",
      "source": [
        "Операции с числами выполняются **поэлементно**\n",
        "\n"
      ],
      "metadata": {
        "id": "-Hn3vP9iP63v"
      }
    },
    {
      "cell_type": "code",
      "execution_count": 54,
      "metadata": {
        "id": "YkpnJuGx-yEL",
        "outputId": "bf839d01-0d65-4a0f-9cf4-f59499dad8b3",
        "colab": {
          "base_uri": "https://localhost:8080/"
        }
      },
      "outputs": [
        {
          "output_type": "execute_result",
          "data": {
            "text/plain": [
              "array([[1, 2],\n",
              "       [3, 4]])"
            ]
          },
          "metadata": {},
          "execution_count": 54
        }
      ],
      "source": [
        "a = np.array([[1, 2],[3, 4]])\n",
        "a"
      ]
    },
    {
      "cell_type": "code",
      "source": [
        "a + 1"
      ],
      "metadata": {
        "colab": {
          "base_uri": "https://localhost:8080/"
        },
        "id": "eoVZMFTNQCDn",
        "outputId": "b2ebfcc1-d679-4564-bfba-e4e36d398259"
      },
      "execution_count": 56,
      "outputs": [
        {
          "output_type": "execute_result",
          "data": {
            "text/plain": [
              "array([[2, 3],\n",
              "       [4, 5]])"
            ]
          },
          "metadata": {},
          "execution_count": 56
        }
      ]
    },
    {
      "cell_type": "code",
      "source": [
        "a - 1"
      ],
      "metadata": {
        "colab": {
          "base_uri": "https://localhost:8080/"
        },
        "id": "UG34YvGEQDll",
        "outputId": "e0801e8c-3a23-4cf9-860b-bd05fe802a95"
      },
      "execution_count": 57,
      "outputs": [
        {
          "output_type": "execute_result",
          "data": {
            "text/plain": [
              "array([[0, 1],\n",
              "       [2, 3]])"
            ]
          },
          "metadata": {},
          "execution_count": 57
        }
      ]
    },
    {
      "cell_type": "code",
      "source": [
        "a * 2"
      ],
      "metadata": {
        "colab": {
          "base_uri": "https://localhost:8080/"
        },
        "id": "RZ7khJPuQFCy",
        "outputId": "b22332d9-37fe-4ce2-d5b8-8c256e92cd38"
      },
      "execution_count": 58,
      "outputs": [
        {
          "output_type": "execute_result",
          "data": {
            "text/plain": [
              "array([[2, 4],\n",
              "       [6, 8]])"
            ]
          },
          "metadata": {},
          "execution_count": 58
        }
      ]
    },
    {
      "cell_type": "code",
      "source": [
        "a / 2"
      ],
      "metadata": {
        "colab": {
          "base_uri": "https://localhost:8080/"
        },
        "id": "bzeVdOlxQGiD",
        "outputId": "92020c77-415b-4a52-8fcd-d8a8570c339d"
      },
      "execution_count": 59,
      "outputs": [
        {
          "output_type": "execute_result",
          "data": {
            "text/plain": [
              "array([[0.5, 1. ],\n",
              "       [1.5, 2. ]])"
            ]
          },
          "metadata": {},
          "execution_count": 59
        }
      ]
    },
    {
      "cell_type": "code",
      "source": [
        "a ** 2"
      ],
      "metadata": {
        "colab": {
          "base_uri": "https://localhost:8080/"
        },
        "id": "jmbxNvOpQHxn",
        "outputId": "c7e5ed66-3323-4f5b-d00a-b448b5a14592"
      },
      "execution_count": 60,
      "outputs": [
        {
          "output_type": "execute_result",
          "data": {
            "text/plain": [
              "array([[ 1,  4],\n",
              "       [ 9, 16]])"
            ]
          },
          "metadata": {},
          "execution_count": 60
        }
      ]
    },
    {
      "cell_type": "markdown",
      "source": [
        "Математические операции между матрицами тоже выполняются **поэлементно**"
      ],
      "metadata": {
        "id": "Nw4MelyuQXpQ"
      }
    },
    {
      "cell_type": "code",
      "source": [
        "a = np.array([[1, 2], [3, 4]])\n",
        "b = np.array([[3, 4], [1, 2]])"
      ],
      "metadata": {
        "id": "K3mpNSZEQjiT"
      },
      "execution_count": 61,
      "outputs": []
    },
    {
      "cell_type": "code",
      "source": [
        "a + b"
      ],
      "metadata": {
        "colab": {
          "base_uri": "https://localhost:8080/"
        },
        "id": "rMvbv58NQr3v",
        "outputId": "5eed4bbe-264a-4318-e83c-682bc2e8d552"
      },
      "execution_count": 62,
      "outputs": [
        {
          "output_type": "execute_result",
          "data": {
            "text/plain": [
              "array([[4, 6],\n",
              "       [4, 6]])"
            ]
          },
          "metadata": {},
          "execution_count": 62
        }
      ]
    },
    {
      "cell_type": "code",
      "source": [
        "a - b"
      ],
      "metadata": {
        "colab": {
          "base_uri": "https://localhost:8080/"
        },
        "id": "9QfvtwELQwvX",
        "outputId": "894a0e2b-48be-4afe-a451-bd44c6263541"
      },
      "execution_count": 63,
      "outputs": [
        {
          "output_type": "execute_result",
          "data": {
            "text/plain": [
              "array([[-2, -2],\n",
              "       [ 2,  2]])"
            ]
          },
          "metadata": {},
          "execution_count": 63
        }
      ]
    },
    {
      "cell_type": "code",
      "source": [
        "a * b"
      ],
      "metadata": {
        "colab": {
          "base_uri": "https://localhost:8080/"
        },
        "id": "LPjd77SRQtnZ",
        "outputId": "0cf381c9-63fd-427b-b776-3223c31baadb"
      },
      "execution_count": 64,
      "outputs": [
        {
          "output_type": "execute_result",
          "data": {
            "text/plain": [
              "array([[3, 8],\n",
              "       [3, 8]])"
            ]
          },
          "metadata": {},
          "execution_count": 64
        }
      ]
    },
    {
      "cell_type": "code",
      "source": [
        "a / b"
      ],
      "metadata": {
        "colab": {
          "base_uri": "https://localhost:8080/"
        },
        "id": "PlT4LWfOQvJo",
        "outputId": "1d391be9-d085-4f8c-c8a1-a7814f3de67e"
      },
      "execution_count": 65,
      "outputs": [
        {
          "output_type": "execute_result",
          "data": {
            "text/plain": [
              "array([[0.33333333, 0.5       ],\n",
              "       [3.        , 2.        ]])"
            ]
          },
          "metadata": {},
          "execution_count": 65
        }
      ]
    },
    {
      "cell_type": "markdown",
      "source": [
        "Формы массивов могут не совпадать, главное - чтобы они были **broadcastable**\n",
        "\n",
        "https://numpy.org/doc/stable/user/basics.broadcasting.html"
      ],
      "metadata": {
        "id": "RrA6BbhGSei1"
      }
    },
    {
      "cell_type": "code",
      "source": [
        "a = np.array([[1, 2, 3], [4, 5, 6]])\n",
        "b = np.array([0, 1, 2])\n",
        "c = np.array([[0, 1, 2], [0, 1, 2]])\n",
        "\n",
        "print(a.shape, b.shape, c.shape)"
      ],
      "metadata": {
        "colab": {
          "base_uri": "https://localhost:8080/"
        },
        "id": "7E0BDcxySAPa",
        "outputId": "9d004334-d2a0-49df-838c-ae6e2b255109"
      },
      "execution_count": 66,
      "outputs": [
        {
          "output_type": "stream",
          "name": "stdout",
          "text": [
            "(2, 3) (3,) (2, 3)\n"
          ]
        }
      ]
    },
    {
      "cell_type": "code",
      "source": [
        "a + b"
      ],
      "metadata": {
        "colab": {
          "base_uri": "https://localhost:8080/"
        },
        "id": "Dy_9dnovTjqk",
        "outputId": "7799dc7d-87de-4b38-8f59-1dcd2a3115b4"
      },
      "execution_count": 68,
      "outputs": [
        {
          "output_type": "execute_result",
          "data": {
            "text/plain": [
              "array([[1, 3, 5],\n",
              "       [4, 6, 8]])"
            ]
          },
          "metadata": {},
          "execution_count": 68
        }
      ]
    },
    {
      "cell_type": "code",
      "source": [
        "a + c"
      ],
      "metadata": {
        "colab": {
          "base_uri": "https://localhost:8080/"
        },
        "id": "3Kgzsh53TyR-",
        "outputId": "eb732ffe-5e35-45f5-a59a-a1c1c26b91ec"
      },
      "execution_count": 69,
      "outputs": [
        {
          "output_type": "execute_result",
          "data": {
            "text/plain": [
              "array([[1, 3, 5],\n",
              "       [4, 6, 8]])"
            ]
          },
          "metadata": {},
          "execution_count": 69
        }
      ]
    },
    {
      "cell_type": "markdown",
      "source": [
        "Задача. Создать квадратную матрицу размера N с квадратами чисел от N до 1 на главной диагонали"
      ],
      "metadata": {
        "id": "bd7fNjnIUPUs"
      }
    },
    {
      "cell_type": "code",
      "source": [
        "# your code here\n",
        "a = np.eye(10)\n",
        "b = np.arange(10, 0, -1)\n",
        "c = (a * b) ** 2\n",
        "\n",
        "c"
      ],
      "metadata": {
        "colab": {
          "base_uri": "https://localhost:8080/"
        },
        "id": "6qtKBzB7UM3t",
        "outputId": "7ce844c7-8296-48c2-b634-1cfcd412fbb7"
      },
      "execution_count": 72,
      "outputs": [
        {
          "output_type": "execute_result",
          "data": {
            "text/plain": [
              "array([[100.,   0.,   0.,   0.,   0.,   0.,   0.,   0.,   0.,   0.],\n",
              "       [  0.,  81.,   0.,   0.,   0.,   0.,   0.,   0.,   0.,   0.],\n",
              "       [  0.,   0.,  64.,   0.,   0.,   0.,   0.,   0.,   0.,   0.],\n",
              "       [  0.,   0.,   0.,  49.,   0.,   0.,   0.,   0.,   0.,   0.],\n",
              "       [  0.,   0.,   0.,   0.,  36.,   0.,   0.,   0.,   0.,   0.],\n",
              "       [  0.,   0.,   0.,   0.,   0.,  25.,   0.,   0.,   0.,   0.],\n",
              "       [  0.,   0.,   0.,   0.,   0.,   0.,  16.,   0.,   0.,   0.],\n",
              "       [  0.,   0.,   0.,   0.,   0.,   0.,   0.,   9.,   0.,   0.],\n",
              "       [  0.,   0.,   0.,   0.,   0.,   0.,   0.,   0.,   4.,   0.],\n",
              "       [  0.,   0.,   0.,   0.,   0.,   0.,   0.,   0.,   0.,   1.]])"
            ]
          },
          "metadata": {},
          "execution_count": 72
        }
      ]
    },
    {
      "cell_type": "markdown",
      "source": [
        "##### Математические функции\n",
        "\n",
        "https://numpy.org/doc/stable/reference/routines.math.html"
      ],
      "metadata": {
        "id": "XhkUPFF63NkO"
      }
    },
    {
      "cell_type": "code",
      "source": [
        "# поэлементные функции\n",
        "a = np.arange(10)\n",
        "np.sin(a)"
      ],
      "metadata": {
        "colab": {
          "base_uri": "https://localhost:8080/"
        },
        "id": "Bx3ucvcS3TQ0",
        "outputId": "f723a7f7-790d-4f15-ac42-f53435a08408"
      },
      "execution_count": 73,
      "outputs": [
        {
          "output_type": "execute_result",
          "data": {
            "text/plain": [
              "array([ 0.        ,  0.84147098,  0.90929743,  0.14112001, -0.7568025 ,\n",
              "       -0.95892427, -0.2794155 ,  0.6569866 ,  0.98935825,  0.41211849])"
            ]
          },
          "metadata": {},
          "execution_count": 73
        }
      ]
    },
    {
      "cell_type": "code",
      "source": [
        "# агрегатные функции\n",
        "a = np.array([[1, 2], [3, 4]])\n",
        "np.sum(a)"
      ],
      "metadata": {
        "colab": {
          "base_uri": "https://localhost:8080/"
        },
        "id": "8QtSBcRS3pc1",
        "outputId": "9610d763-8d55-4bc0-a3dd-be90e5585c41"
      },
      "execution_count": 74,
      "outputs": [
        {
          "output_type": "execute_result",
          "data": {
            "text/plain": [
              "10"
            ]
          },
          "metadata": {},
          "execution_count": 74
        }
      ]
    },
    {
      "cell_type": "code",
      "source": [
        "# можно задавать ось\n",
        "a = np.array([[1, 2], [3, 4]])\n",
        "np.sum(a, 0)"
      ],
      "metadata": {
        "colab": {
          "base_uri": "https://localhost:8080/"
        },
        "id": "ygUrcw-u3xJl",
        "outputId": "f59a2140-ea28-460c-ffdb-7effdc546086"
      },
      "execution_count": 76,
      "outputs": [
        {
          "output_type": "execute_result",
          "data": {
            "text/plain": [
              "array([4, 6])"
            ]
          },
          "metadata": {},
          "execution_count": 76
        }
      ]
    },
    {
      "cell_type": "markdown",
      "source": [
        "##### Матричные операции"
      ],
      "metadata": {
        "id": "JNxPRUgYVZMI"
      }
    },
    {
      "cell_type": "markdown",
      "source": [
        "Транспонирование матрицы"
      ],
      "metadata": {
        "id": "nnH8GfkHgwES"
      }
    },
    {
      "cell_type": "code",
      "source": [
        "a = np.array([[1, 2], [3, 4]])\n",
        "a"
      ],
      "metadata": {
        "colab": {
          "base_uri": "https://localhost:8080/"
        },
        "id": "NCR_XQwUg0Ei",
        "outputId": "31a299de-a416-460b-b7cb-46083a50dfa7"
      },
      "execution_count": 77,
      "outputs": [
        {
          "output_type": "execute_result",
          "data": {
            "text/plain": [
              "array([[1, 2],\n",
              "       [3, 4]])"
            ]
          },
          "metadata": {},
          "execution_count": 77
        }
      ]
    },
    {
      "cell_type": "code",
      "source": [
        "a.T"
      ],
      "metadata": {
        "colab": {
          "base_uri": "https://localhost:8080/"
        },
        "id": "xza9PQK1g6DY",
        "outputId": "5f8f57ec-573f-406e-e433-a81ae9f57e0e"
      },
      "execution_count": 78,
      "outputs": [
        {
          "output_type": "execute_result",
          "data": {
            "text/plain": [
              "array([[1, 3],\n",
              "       [2, 4]])"
            ]
          },
          "metadata": {},
          "execution_count": 78
        }
      ]
    },
    {
      "cell_type": "code",
      "source": [
        "a.transpose()"
      ],
      "metadata": {
        "colab": {
          "base_uri": "https://localhost:8080/"
        },
        "id": "Xq6Wo5_Vg7Kz",
        "outputId": "bc22f162-7451-4fd9-c217-8b4415f20358"
      },
      "execution_count": 79,
      "outputs": [
        {
          "output_type": "execute_result",
          "data": {
            "text/plain": [
              "array([[1, 3],\n",
              "       [2, 4]])"
            ]
          },
          "metadata": {},
          "execution_count": 79
        }
      ]
    },
    {
      "cell_type": "code",
      "source": [
        "np.transpose(a)"
      ],
      "metadata": {
        "colab": {
          "base_uri": "https://localhost:8080/"
        },
        "id": "pNq_ALqJg9Pu",
        "outputId": "ea2b067b-db1b-4efc-9134-35e7998df9b3"
      },
      "execution_count": 80,
      "outputs": [
        {
          "output_type": "execute_result",
          "data": {
            "text/plain": [
              "array([[1, 3],\n",
              "       [2, 4]])"
            ]
          },
          "metadata": {},
          "execution_count": 80
        }
      ]
    },
    {
      "cell_type": "markdown",
      "metadata": {
        "id": "iDd62QB0-yEX"
      },
      "source": [
        "Операция matmul - умножение матрицы на вектор, и матрицы на матрицу\n",
        "\n",
        "https://numpy.org/doc/stable/reference/generated/numpy.matmul.html"
      ]
    },
    {
      "cell_type": "code",
      "execution_count": 81,
      "metadata": {
        "id": "n2aSCVyV-yEX",
        "outputId": "3453d966-a4fd-4de2-d8ce-f00c0a559a0c",
        "colab": {
          "base_uri": "https://localhost:8080/"
        }
      },
      "outputs": [
        {
          "output_type": "execute_result",
          "data": {
            "text/plain": [
              "-5.0"
            ]
          },
          "metadata": {},
          "execution_count": 81
        }
      ],
      "source": [
        "# два вектора - скалярное произведение\n",
        "a = np.array([2., 3., 4.])\n",
        "b = np.array([-2., 1., -1.])\n",
        "\n",
        "a @ b"
      ]
    },
    {
      "cell_type": "code",
      "execution_count": 82,
      "metadata": {
        "id": "wpiwxYoy-yEY",
        "outputId": "3e0bc953-9271-43c3-c86d-774218ee217a",
        "colab": {
          "base_uri": "https://localhost:8080/"
        }
      },
      "outputs": [
        {
          "output_type": "execute_result",
          "data": {
            "text/plain": [
              "array([11, 23, 35])"
            ]
          },
          "metadata": {},
          "execution_count": 82
        }
      ],
      "source": [
        "# матрица и вектор - умножение матрицы на вектор\n",
        "a = np.array([[1, 2, 3], [4, 5, 6], [7, 8, 9]])\n",
        "b = np.array([-1, 3, 2])\n",
        "\n",
        "a @ b"
      ]
    },
    {
      "cell_type": "code",
      "execution_count": 83,
      "metadata": {
        "id": "C4U87G0O-yEY",
        "outputId": "c204267f-2dba-4dca-acd0-b63236d71efb",
        "colab": {
          "base_uri": "https://localhost:8080/"
        }
      },
      "outputs": [
        {
          "output_type": "execute_result",
          "data": {
            "text/plain": [
              "array([[22, 28],\n",
              "       [40, 52],\n",
              "       [58, 76]])"
            ]
          },
          "metadata": {},
          "execution_count": 83
        }
      ],
      "source": [
        "# две матрицы\n",
        "a = np.array([[1, 2, 3], [3, 4, 5], [5, 6, 7]])\n",
        "b = np.array([[1, 2], [3, 4], [5, 6]])\n",
        "\n",
        "a @ b"
      ]
    },
    {
      "cell_type": "code",
      "execution_count": 84,
      "metadata": {
        "id": "R1t6Vasm-yEY",
        "outputId": "34049784-86fb-4270-c771-b1180f3c12b6",
        "colab": {
          "base_uri": "https://localhost:8080/",
          "height": 222
        }
      },
      "outputs": [
        {
          "output_type": "error",
          "ename": "ValueError",
          "evalue": "ignored",
          "traceback": [
            "\u001b[0;31m---------------------------------------------------------------------------\u001b[0m",
            "\u001b[0;31mValueError\u001b[0m                                Traceback (most recent call last)",
            "\u001b[0;32m<ipython-input-84-0db89806197e>\u001b[0m in \u001b[0;36m<cell line: 2>\u001b[0;34m()\u001b[0m\n\u001b[1;32m      1\u001b[0m \u001b[0;31m# важно, чтобы матрицы соответствовали по размеру (число столбцов первой матрицы равнялось число строк второй)\u001b[0m\u001b[0;34m\u001b[0m\u001b[0;34m\u001b[0m\u001b[0m\n\u001b[0;32m----> 2\u001b[0;31m \u001b[0mb\u001b[0m \u001b[0;34m@\u001b[0m \u001b[0ma\u001b[0m\u001b[0;34m\u001b[0m\u001b[0;34m\u001b[0m\u001b[0m\n\u001b[0m",
            "\u001b[0;31mValueError\u001b[0m: matmul: Input operand 1 has a mismatch in its core dimension 0, with gufunc signature (n?,k),(k,m?)->(n?,m?) (size 3 is different from 2)"
          ]
        }
      ],
      "source": [
        "# важно, чтобы матрицы соответствовали по размеру (число столбцов первой матрицы равнялось число строк второй)\n",
        "b @ a"
      ]
    },
    {
      "cell_type": "code",
      "source": [
        "# если размерность одного массива больше 2?\n",
        "a = np.ones((12, 5, 3, 4))\n",
        "b = np.ones((4, 5))\n",
        "\n",
        "c = a @ b\n",
        "c.shape"
      ],
      "metadata": {
        "colab": {
          "base_uri": "https://localhost:8080/"
        },
        "id": "A1C9xgXNxozD",
        "outputId": "6d6338a5-628c-4017-d869-a4d1664852a0"
      },
      "execution_count": 87,
      "outputs": [
        {
          "output_type": "execute_result",
          "data": {
            "text/plain": [
              "(12, 5, 3, 5)"
            ]
          },
          "metadata": {},
          "execution_count": 87
        }
      ]
    },
    {
      "cell_type": "code",
      "source": [
        "# а если обоих?\n",
        "a = np.ones((2, 3, 4))\n",
        "b = np.ones((7, 4, 5))\n",
        "\n",
        "c = a @ b\n",
        "c.shape"
      ],
      "metadata": {
        "colab": {
          "base_uri": "https://localhost:8080/",
          "height": 260
        },
        "id": "sMV4YAlDyFgg",
        "outputId": "cb02a4e2-968d-491f-ffff-6433754d317e"
      },
      "execution_count": 92,
      "outputs": [
        {
          "output_type": "error",
          "ename": "ValueError",
          "evalue": "ignored",
          "traceback": [
            "\u001b[0;31m---------------------------------------------------------------------------\u001b[0m",
            "\u001b[0;31mValueError\u001b[0m                                Traceback (most recent call last)",
            "\u001b[0;32m<ipython-input-92-6d49c32a7dd5>\u001b[0m in \u001b[0;36m<cell line: 5>\u001b[0;34m()\u001b[0m\n\u001b[1;32m      3\u001b[0m \u001b[0mb\u001b[0m \u001b[0;34m=\u001b[0m \u001b[0mnp\u001b[0m\u001b[0;34m.\u001b[0m\u001b[0mones\u001b[0m\u001b[0;34m(\u001b[0m\u001b[0;34m(\u001b[0m\u001b[0;36m7\u001b[0m\u001b[0;34m,\u001b[0m \u001b[0;36m4\u001b[0m\u001b[0;34m,\u001b[0m \u001b[0;36m5\u001b[0m\u001b[0;34m)\u001b[0m\u001b[0;34m)\u001b[0m\u001b[0;34m\u001b[0m\u001b[0;34m\u001b[0m\u001b[0m\n\u001b[1;32m      4\u001b[0m \u001b[0;34m\u001b[0m\u001b[0m\n\u001b[0;32m----> 5\u001b[0;31m \u001b[0mc\u001b[0m \u001b[0;34m=\u001b[0m \u001b[0ma\u001b[0m \u001b[0;34m@\u001b[0m \u001b[0mb\u001b[0m\u001b[0;34m\u001b[0m\u001b[0;34m\u001b[0m\u001b[0m\n\u001b[0m\u001b[1;32m      6\u001b[0m \u001b[0mc\u001b[0m\u001b[0;34m.\u001b[0m\u001b[0mshape\u001b[0m\u001b[0;34m\u001b[0m\u001b[0;34m\u001b[0m\u001b[0m\n",
            "\u001b[0;31mValueError\u001b[0m: operands could not be broadcast together with remapped shapes [original->remapped]: (2,3,4)->(2,newaxis,newaxis) (7,4,5)->(7,newaxis,newaxis)  and requested shape (3,5)"
          ]
        }
      ]
    },
    {
      "cell_type": "markdown",
      "source": [
        "Операция dot - тоже умножение, но есть нюанс\n",
        "\n",
        "https://numpy.org/doc/stable/reference/generated/numpy.dot.html"
      ],
      "metadata": {
        "id": "bU-eZCYuxb1z"
      }
    },
    {
      "cell_type": "code",
      "source": [
        "# если размерность одного массива больше 2?\n",
        "a = np.ones((2, 3, 4))\n",
        "b = np.ones((4, 5))\n",
        "\n",
        "c = a.dot(b)\n",
        "c.shape"
      ],
      "metadata": {
        "colab": {
          "base_uri": "https://localhost:8080/"
        },
        "outputId": "715a5548-ddf7-426c-caf4-936fb2ff5c09",
        "id": "y73Rf3vMydmr"
      },
      "execution_count": 89,
      "outputs": [
        {
          "output_type": "execute_result",
          "data": {
            "text/plain": [
              "(2, 3, 5)"
            ]
          },
          "metadata": {},
          "execution_count": 89
        }
      ]
    },
    {
      "cell_type": "code",
      "source": [
        "# а если обоих?\n",
        "a = np.ones((2, 3, 4))\n",
        "b = np.ones((7, 4, 5))\n",
        "\n",
        "c = a.dot(b)\n",
        "c.shape"
      ],
      "metadata": {
        "colab": {
          "base_uri": "https://localhost:8080/"
        },
        "outputId": "4ca6c5b5-28e3-46b1-993c-983ede53b922",
        "id": "P_GP-uSmyfgS"
      },
      "execution_count": 91,
      "outputs": [
        {
          "output_type": "execute_result",
          "data": {
            "text/plain": [
              "(2, 3, 7, 5)"
            ]
          },
          "metadata": {},
          "execution_count": 91
        }
      ]
    },
    {
      "cell_type": "markdown",
      "metadata": {
        "id": "-MVAgpZW-yEZ"
      },
      "source": [
        "Обратная матрица и определитель"
      ]
    },
    {
      "cell_type": "code",
      "execution_count": 93,
      "metadata": {
        "id": "KkeVw41R-yEZ",
        "outputId": "f0fa7155-c11f-46f9-e40c-178578ded5a7",
        "colab": {
          "base_uri": "https://localhost:8080/"
        }
      },
      "outputs": [
        {
          "output_type": "stream",
          "name": "stdout",
          "text": [
            "[[1. 0. 0. 0. 0. 0. 0. 0. 0. 0.]\n",
            " [0. 1. 0. 0. 0. 0. 0. 0. 0. 0.]\n",
            " [0. 0. 1. 0. 0. 0. 0. 0. 0. 0.]\n",
            " [0. 0. 0. 1. 0. 0. 0. 0. 0. 0.]\n",
            " [0. 0. 0. 0. 1. 0. 0. 0. 0. 0.]\n",
            " [0. 0. 0. 0. 0. 1. 0. 0. 0. 0.]\n",
            " [0. 0. 0. 0. 0. 0. 1. 0. 0. 0.]\n",
            " [0. 0. 0. 0. 0. 0. 0. 1. 0. 0.]\n",
            " [0. 0. 0. 0. 0. 0. 0. 0. 1. 0.]\n",
            " [0. 0. 0. 0. 0. 0. 0. 0. 0. 1.]]\n",
            "1.0\n"
          ]
        }
      ],
      "source": [
        "# определитель\n",
        "a = np.eye(10)\n",
        "\n",
        "print(a)\n",
        "print(np.linalg.det(a))"
      ]
    },
    {
      "cell_type": "code",
      "execution_count": 94,
      "metadata": {
        "id": "Df5pvq8a-yEa",
        "outputId": "7075cf05-e709-4125-e35a-127341b21ae6",
        "colab": {
          "base_uri": "https://localhost:8080/"
        }
      },
      "outputs": [
        {
          "output_type": "stream",
          "name": "stdout",
          "text": [
            "[[6. 1. 1. 1. 1. 1.]\n",
            " [1. 6. 1. 1. 1. 1.]\n",
            " [1. 1. 6. 1. 1. 1.]\n",
            " [1. 1. 1. 6. 1. 1.]\n",
            " [1. 1. 1. 1. 6. 1.]\n",
            " [1. 1. 1. 1. 1. 6.]]\n",
            "34374.99999999999\n"
          ]
        }
      ],
      "source": [
        "b = 5 * np.eye(6) + np.ones(6)\n",
        "\n",
        "print(b)\n",
        "print(np.linalg.det(b))"
      ]
    },
    {
      "cell_type": "code",
      "execution_count": 95,
      "metadata": {
        "id": "rrcR9VUF-yEa",
        "outputId": "3a1d536d-7e0c-4c8a-d4fe-7934de57e8a3",
        "colab": {
          "base_uri": "https://localhost:8080/"
        }
      },
      "outputs": [
        {
          "output_type": "execute_result",
          "data": {
            "text/plain": [
              "array([[-2. ,  1. ],\n",
              "       [ 1.5, -0.5]])"
            ]
          },
          "metadata": {},
          "execution_count": 95
        }
      ],
      "source": [
        "# обратная матрица\n",
        "a = np.array([[1, 2], [3, 4]])\n",
        "b = np.linalg.inv(a)\n",
        "\n",
        "b"
      ]
    },
    {
      "cell_type": "code",
      "source": [
        "a @ b"
      ],
      "metadata": {
        "colab": {
          "base_uri": "https://localhost:8080/"
        },
        "id": "XJXJieEJw-Xo",
        "outputId": "2a370cdd-63d2-42d8-acd7-83d4e4feb27a"
      },
      "execution_count": 96,
      "outputs": [
        {
          "output_type": "execute_result",
          "data": {
            "text/plain": [
              "array([[1.0000000e+00, 0.0000000e+00],\n",
              "       [8.8817842e-16, 1.0000000e+00]])"
            ]
          },
          "metadata": {},
          "execution_count": 96
        }
      ]
    },
    {
      "cell_type": "code",
      "source": [
        "np.allclose(a @ b, np.eye(2))"
      ],
      "metadata": {
        "colab": {
          "base_uri": "https://localhost:8080/"
        },
        "id": "9p72eBL0xAGz",
        "outputId": "a71f1d9c-c66b-46cb-aa4e-4acf68b38a09"
      },
      "execution_count": 97,
      "outputs": [
        {
          "output_type": "execute_result",
          "data": {
            "text/plain": [
              "True"
            ]
          },
          "metadata": {},
          "execution_count": 97
        }
      ]
    },
    {
      "cell_type": "code",
      "source": [
        "# обратная матрица не всегда существует\n",
        "a = np.array([[1, 0], [2, 0]])\n",
        "np.linalg.det(a)"
      ],
      "metadata": {
        "colab": {
          "base_uri": "https://localhost:8080/"
        },
        "id": "RhdwueqaxFRQ",
        "outputId": "3214e950-96da-4504-b581-ce1d7a6348a3"
      },
      "execution_count": 99,
      "outputs": [
        {
          "output_type": "execute_result",
          "data": {
            "text/plain": [
              "0.0"
            ]
          },
          "metadata": {},
          "execution_count": 99
        }
      ]
    },
    {
      "cell_type": "markdown",
      "source": [
        "Задача. Решить систему линейных уравнений\n",
        "$$\n",
        "a_{11} x_1 + ... + a_{1n} x_n = b_1\n",
        "$$\n",
        "$$\n",
        "...\n",
        "$$\n",
        "$$\n",
        "a_{n1} x_1 + ... + a_{nn} x_n = b_n\n",
        "$$\n",
        "\n",
        "В матричном виде $Ax = b$"
      ],
      "metadata": {
        "id": "v4J_dR8EqDWb"
      }
    },
    {
      "cell_type": "code",
      "source": [
        "def solve_eq(A, b):\n",
        "    # your code here\n",
        "    return np.linalg.inv(A) @ b"
      ],
      "metadata": {
        "id": "fowDXMPDsLQy"
      },
      "execution_count": 100,
      "outputs": []
    },
    {
      "cell_type": "code",
      "source": [
        "A = np.random.random((5, 5))\n",
        "b = np.arange(5)\n",
        "\n",
        "x = solve_eq(A, b)\n",
        "\n",
        "assert np.allclose(A @ x, b)"
      ],
      "metadata": {
        "id": "CW48k7ZArrV_"
      },
      "execution_count": 103,
      "outputs": []
    }
  ],
  "metadata": {
    "kernelspec": {
      "display_name": "Python 3",
      "language": "python",
      "name": "python3"
    },
    "language_info": {
      "codemirror_mode": {
        "name": "ipython",
        "version": 3
      },
      "file_extension": ".py",
      "mimetype": "text/x-python",
      "name": "python",
      "nbconvert_exporter": "python",
      "pygments_lexer": "ipython3",
      "version": "3.8.5"
    },
    "colab": {
      "provenance": [],
      "toc_visible": true
    }
  },
  "nbformat": 4,
  "nbformat_minor": 0
}